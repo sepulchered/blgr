{
 "metadata": {
  "name": "",
  "signature": "sha256:7ced72794c33cb8cc51635bd4d75e90abf66ecba4f60e68ddc27867707cc873e"
 },
 "nbformat": 3,
 "nbformat_minor": 0,
 "worksheets": [
  {
   "cells": [
    {
     "cell_type": "code",
     "collapsed": false,
     "input": [],
     "language": "python",
     "metadata": {},
     "outputs": []
    }
   ],
   "metadata": {}
  }
 ]
}